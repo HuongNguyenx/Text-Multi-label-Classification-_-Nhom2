{
  "nbformat": 4,
  "nbformat_minor": 0,
  "metadata": {
    "colab": {
      "provenance": []
    },
    "kernelspec": {
      "name": "python3",
      "display_name": "Python 3"
    },
    "language_info": {
      "name": "python"
    }
  },
  "cells": [
    {
      "cell_type": "code",
      "execution_count": null,
      "metadata": {
        "id": "Px0NQ7H9s1yo"
      },
      "outputs": [],
      "source": [
        "from google.colab import drive\n",
        "drive.mount('/content/drive')"
      ]
    },
    {
      "cell_type": "code",
      "source": [
        "%cd /content/drive/MyDrive/output"
      ],
      "metadata": {
        "id": "q26zLz1ktBud"
      },
      "execution_count": null,
      "outputs": []
    },
    {
      "cell_type": "code",
      "source": [
        "import pandas as pd\n",
        "import glob\n",
        "import os\n",
        "\n",
        "folder_path = \"/content/drive/MyDrive/output\"\n",
        "\n",
        "csv_files = glob.glob(os.path.join(folder_path, \"*.csv\"))\n",
        "\n",
        "df_list = []\n",
        "\n",
        "for file in csv_files:\n",
        "    df = pd.read_csv(file)\n",
        "    df_list.append(df)\n",
        "\n",
        "combined_df = pd.concat(df_list, ignore_index=True)\n",
        "\n",
        "print(combined_df.shape)"
      ],
      "metadata": {
        "id": "1mSC-VBAtFgY"
      },
      "execution_count": null,
      "outputs": []
    },
    {
      "cell_type": "code",
      "source": [
        "combined_df_sorted = combined_df.sort_values(by='idx', ascending=True)\n",
        "combined_df_sorted['keywords'] = combined_df_sorted['keywords'].str.replace(', ', ',', regex=False)\n",
        "\n",
        "print(combined_df_sorted)"
      ],
      "metadata": {
        "id": "P8yp0ysBtsf6"
      },
      "execution_count": null,
      "outputs": []
    },
    {
      "cell_type": "code",
      "source": [
        "file_path_ner = \"/content/drive/MyDrive/NER/output_ner.csv\"\n",
        "df_ner = pd.read_csv(file_path_ner, encoding='utf-8-sig')"
      ],
      "metadata": {
        "id": "U2C2EeQAuBIq"
      },
      "execution_count": null,
      "outputs": []
    },
    {
      "cell_type": "code",
      "source": [
        "df_ner = df_ner[(df_ner['idx'] >= 0) & (df_ner['idx'] <= 43902)]\n",
        "print(df_ner)"
      ],
      "metadata": {
        "id": "gtWzTQbUvUE0"
      },
      "execution_count": null,
      "outputs": []
    },
    {
      "cell_type": "code",
      "source": [
        "import pandas as pd\n",
        "\n",
        "idx_values = list(range(43903))\n",
        "\n",
        "df = pd.DataFrame({\n",
        "    'idx': idx_values,\n",
        "    'tags': [''] * len(idx_values)\n",
        "})\n",
        "\n",
        "print(df.info())"
      ],
      "metadata": {
        "id": "OsfuPvTSv0nm"
      },
      "execution_count": null,
      "outputs": []
    },
    {
      "cell_type": "code",
      "source": [
        "import pandas as pd\n",
        "\n",
        "combined_keywords = pd.concat([df_ner[['idx', 'tags']], combined_df[['idx', 'tags']]])\n",
        "combined_keywords = combined_keywords.drop_duplicates(subset='idx', keep='last')\n",
        "combined_keywords_sorted = combined_keywords.sort_values(by='idx', ascending=True)\n",
        "\n",
        "print(combined_keywords.head())"
      ],
      "metadata": {
        "id": "KVvPPtZawKH3"
      },
      "execution_count": null,
      "outputs": []
    },
    {
      "cell_type": "code",
      "source": [
        "import pandas as pd\n",
        "\n",
        "combined_keywords_grouped = combined_keywords.groupby('idx', as_index=False).agg({\n",
        "    'tags': lambda x: ','.join(filter(None, map(str, x)))\n",
        "})\n",
        "combined_keywords_grouped['tags'] = combined_keywords_grouped['tags'].fillna('').str.replace('_', ' ', regex=False)\n",
        "combined_keywords_grouped['tags'] = combined_keywords_grouped['tags'].fillna('').str.lower()\n",
        "print(combined_keywords_grouped)"
      ],
      "metadata": {
        "id": "KwhOhV9BzBJX"
      },
      "execution_count": null,
      "outputs": []
    },
    {
      "cell_type": "code",
      "source": [
        "def remove_duplicate_keywords(keywords):\n",
        "    if pd.isna(keywords):\n",
        "        return keywords\n",
        "    keywords_list = keywords.split(',')\n",
        "    unique_keywords = list(dict.fromkeys(keywords_list))\n",
        "    return ','.join(unique_keywords)\n",
        "\n",
        "\n",
        "combined_keywords_grouped['tags'] = combined_keywords_grouped['tags'].apply(remove_duplicate_keywords)\n",
        "\n",
        "print(combined_keywords_grouped)\n"
      ],
      "metadata": {
        "id": "vgOPpbNP1SO-"
      },
      "execution_count": null,
      "outputs": []
    },
    {
      "cell_type": "code",
      "source": [
        "merged_df = pd.merge(df, combined_keywords_grouped, on='idx', how='left')\n",
        "merged_df = merged_df.T.drop_duplicates().T\n",
        "\n",
        "print(merged_df)"
      ],
      "metadata": {
        "id": "twMqGyTCxt7O"
      },
      "execution_count": null,
      "outputs": []
    },
    {
      "cell_type": "code",
      "source": [
        "import numpy as np\n",
        "\n",
        "merged_df['tags'] = merged_df['tags_x'].fillna('') + ', ' + merged_df['tags_y'].fillna('')\n",
        "merged_df['tags'] = merged_df['tags'].str.strip(', ')\n",
        "merged_df['tags'] = merged_df['tags'].replace('', np.nan)\n",
        "\n",
        "merged_df.drop(columns=['tags_x', 'tags_y'], inplace=True)\n",
        "\n",
        "print(merged_df)"
      ],
      "metadata": {
        "id": "lJ5c1Xx9w5KN"
      },
      "execution_count": null,
      "outputs": []
    },
    {
      "cell_type": "code",
      "source": [
        "df_test = pd.read_csv('/content/articles_testing.tsv', sep='\\t')\n",
        "\n",
        "combined_df = pd.concat([df_test, merged_df[['tags']]], axis=1)\n",
        "\n",
        "print(combined_df)"
      ],
      "metadata": {
        "id": "vnuRXW201bxB"
      },
      "execution_count": null,
      "outputs": []
    },
    {
      "cell_type": "code",
      "source": [
        "combined_df.to_csv('nhom2_sol1.tsv', sep='\\t', index=False, encoding='utf-8-sig')\n",
        "\n",
        "from google.colab import files\n",
        "files.download('nhom2_sol1.tsv')"
      ],
      "metadata": {
        "colab": {
          "base_uri": "https://localhost:8080/",
          "height": 17
        },
        "id": "A0W4D3Pb27FF",
        "outputId": "4a3ebdcd-e6b4-4c64-a711-b4acaa5cfba3"
      },
      "execution_count": null,
      "outputs": [
        {
          "output_type": "display_data",
          "data": {
            "text/plain": [
              "<IPython.core.display.Javascript object>"
            ],
            "application/javascript": [
              "\n",
              "    async function download(id, filename, size) {\n",
              "      if (!google.colab.kernel.accessAllowed) {\n",
              "        return;\n",
              "      }\n",
              "      const div = document.createElement('div');\n",
              "      const label = document.createElement('label');\n",
              "      label.textContent = `Downloading \"${filename}\": `;\n",
              "      div.appendChild(label);\n",
              "      const progress = document.createElement('progress');\n",
              "      progress.max = size;\n",
              "      div.appendChild(progress);\n",
              "      document.body.appendChild(div);\n",
              "\n",
              "      const buffers = [];\n",
              "      let downloaded = 0;\n",
              "\n",
              "      const channel = await google.colab.kernel.comms.open(id);\n",
              "      // Send a message to notify the kernel that we're ready.\n",
              "      channel.send({})\n",
              "\n",
              "      for await (const message of channel.messages) {\n",
              "        // Send a message to notify the kernel that we're ready.\n",
              "        channel.send({})\n",
              "        if (message.buffers) {\n",
              "          for (const buffer of message.buffers) {\n",
              "            buffers.push(buffer);\n",
              "            downloaded += buffer.byteLength;\n",
              "            progress.value = downloaded;\n",
              "          }\n",
              "        }\n",
              "      }\n",
              "      const blob = new Blob(buffers, {type: 'application/binary'});\n",
              "      const a = document.createElement('a');\n",
              "      a.href = window.URL.createObjectURL(blob);\n",
              "      a.download = filename;\n",
              "      div.appendChild(a);\n",
              "      a.click();\n",
              "      div.remove();\n",
              "    }\n",
              "  "
            ]
          },
          "metadata": {}
        },
        {
          "output_type": "display_data",
          "data": {
            "text/plain": [
              "<IPython.core.display.Javascript object>"
            ],
            "application/javascript": [
              "download(\"download_2179329f-5e6b-4e4c-9600-907f3edc1d20\", \"nhom3_sol1.tsv\", 133760658)"
            ]
          },
          "metadata": {}
        }
      ]
    }
  ]
}